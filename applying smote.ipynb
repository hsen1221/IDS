{
 "cells": [
  {
   "cell_type": "code",
   "execution_count": 1,
   "id": "e5ba72c8-e52a-45d5-9685-e42fc832772b",
   "metadata": {},
   "outputs": [
    {
     "name": "stdout",
     "output_type": "stream",
     "text": [
      "Original class distribution: Counter({1: 17821994, 0: 520028})\n",
      "Class distribution after SMOTE: Counter({1: 14257595, 0: 14257595})\n",
      "\n",
      "Resampled training set shape: (28515190, 12)\n",
      "Test set shape (unchanged): (3668405, 12)\n"
     ]
    }
   ],
   "source": [
    "import pandas as pd\n",
    "from imblearn.over_sampling import SMOTE\n",
    "from sklearn.model_selection import train_test_split\n",
    "from collections import Counter\n",
    "\n",
    "# Load your dataset\n",
    "data = pd.read_csv('alldataset.csv')  # Replace with your file path\n",
    "\n",
    "# Separate features (X) and target (y)\n",
    "X = data.drop('Label', axis=1)  # Features\n",
    "y = data['Label']  # Target variable\n",
    "\n",
    "# Check class distribution before SMOTE\n",
    "print(\"Original class distribution:\", Counter(y))\n",
    "\n",
    "# Split data into train and test sets FIRST (avoid data leakage)\n",
    "X_train, X_test, y_train, y_test = train_test_split(\n",
    "    X, y, test_size=0.2, random_state=42, stratify=y\n",
    ")\n",
    "\n",
    "# Apply SMOTE only to the training data\n",
    "smote = SMOTE(random_state=42, sampling_strategy='auto')\n",
    "X_train_smote, y_train_smote = smote.fit_resample(X_train, y_train)\n",
    "\n",
    "# Check new class distribution after SMOTE\n",
    "print(\"Class distribution after SMOTE:\", Counter(y_train_smote))\n",
    "\n",
    "# Convert back to DataFrame (optional)\n",
    "train_df_smote = pd.DataFrame(X_train_smote, columns=X.columns)\n",
    "train_df_smote['Label'] = y_train_smote\n",
    "\n",
    "# Now you can use X_train_smote, y_train_smote for training\n",
    "print(\"\\nResampled training set shape:\", X_train_smote.shape)\n",
    "print(\"Test set shape (unchanged):\", X_test.shape)\n",
    "\n",
    "# Save the resampled data if needed\n",
    "train_df_smote.to_csv('botnet_dataset_smote_train.csv', index=False)\n",
    "pd.concat([X_test, y_test], axis=1).to_csv('botnet_dataset_test.csv', index=False)"
   ]
  },
  {
   "cell_type": "code",
   "execution_count": null,
   "id": "7a60293b-957c-4896-b551-2e019f02b454",
   "metadata": {},
   "outputs": [],
   "source": []
  }
 ],
 "metadata": {
  "kernelspec": {
   "display_name": "Python 3 (ipykernel)",
   "language": "python",
   "name": "python3"
  },
  "language_info": {
   "codemirror_mode": {
    "name": "ipython",
    "version": 3
   },
   "file_extension": ".py",
   "mimetype": "text/x-python",
   "name": "python",
   "nbconvert_exporter": "python",
   "pygments_lexer": "ipython3",
   "version": "3.12.7"
  }
 },
 "nbformat": 4,
 "nbformat_minor": 5
}
